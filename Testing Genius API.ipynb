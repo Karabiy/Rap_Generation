{
 "cells": [
  {
   "cell_type": "code",
   "execution_count": 1,
   "metadata": {
    "scrolled": true
   },
   "outputs": [
    {
     "name": "stdout",
     "output_type": "stream",
     "text": [
      "Collecting git+https://github.com/johnwmillr/LyricsGenius.git\n",
      "  Cloning https://github.com/johnwmillr/LyricsGenius.git to /private/var/folders/cj/43860_m978lb44hkjly9yqkc0000gn/T/pip-req-build-fklgrfkr\n",
      "  Running command git clone -q https://github.com/johnwmillr/LyricsGenius.git /private/var/folders/cj/43860_m978lb44hkjly9yqkc0000gn/T/pip-req-build-fklgrfkr\n",
      "Requirement already satisfied (use --upgrade to upgrade): lyricsgenius==1.8.2 from git+https://github.com/johnwmillr/LyricsGenius.git in /usr/local/lib/python3.6/site-packages\n",
      "Requirement already satisfied: beautifulsoup4==4.6.0 in /usr/local/lib/python3.6/site-packages (from lyricsgenius==1.8.2) (4.6.0)\n",
      "Requirement already satisfied: requests>=2.20.0 in /usr/local/lib/python3.6/site-packages (from lyricsgenius==1.8.2) (2.22.0)\n",
      "Requirement already satisfied: urllib3!=1.25.0,!=1.25.1,<1.26,>=1.21.1 in /usr/local/lib/python3.6/site-packages (from requests>=2.20.0->lyricsgenius==1.8.2) (1.23)\n",
      "Requirement already satisfied: chardet<3.1.0,>=3.0.2 in /usr/local/lib/python3.6/site-packages (from requests>=2.20.0->lyricsgenius==1.8.2) (3.0.4)\n",
      "Requirement already satisfied: idna<2.9,>=2.5 in /usr/local/lib/python3.6/site-packages (from requests>=2.20.0->lyricsgenius==1.8.2) (2.7)\n",
      "Requirement already satisfied: certifi>=2017.4.17 in /usr/local/lib/python3.6/site-packages (from requests>=2.20.0->lyricsgenius==1.8.2) (2018.8.24)\n",
      "Building wheels for collected packages: lyricsgenius\n",
      "  Building wheel for lyricsgenius (setup.py) ... \u001b[?25ldone\n",
      "\u001b[?25h  Stored in directory: /private/var/folders/cj/43860_m978lb44hkjly9yqkc0000gn/T/pip-ephem-wheel-cache-xv1yzz98/wheels/4c/c2/c2/711389881353cc8ef2f0055a712da5db9637132bc10151212e\n",
      "Successfully built lyricsgenius\n",
      "\u001b[33mWARNING: You are using pip version 19.1.1, however version 19.3.1 is available.\n",
      "You should consider upgrading via the 'pip install --upgrade pip' command.\u001b[0m\n"
     ]
    }
   ],
   "source": [
    "! pip3.6 install git+https://github.com/johnwmillr/LyricsGenius.git"
   ]
  },
  {
   "cell_type": "code",
   "execution_count": 10,
   "metadata": {},
   "outputs": [],
   "source": [
    "NAME = \"АК47\""
   ]
  },
  {
   "cell_type": "code",
   "execution_count": 11,
   "metadata": {
    "scrolled": true
   },
   "outputs": [
    {
     "name": "stdout",
     "output_type": "stream",
     "text": [
      "Searching for songs by АК47...\n",
      "\n",
      "Changing artist name to 'Витя АК (Vitya AK)'\n",
      "Song 1: \"Baack.com #бэкком\"\n",
      "Song 2: \"Diss Big Russian HUESOS / Шлюха в шубе\"\n",
      "Song 3: \"«Азино» три топора (Azino 777)\"\n",
      "Song 4: \"Апокалипсис (Apocalypse)\"\n",
      "Song 5: \"Давно Не Открывал (Didn’t Open Long Time Ago)\"\n",
      "Song 6: \"Дама с собачкой\"\n",
      "Song 7: \"Еду В Ленинград (On The Way To Leningrad)\"\n",
      "Song 8: \"Как ты танцевала (How did you dance)\"\n",
      "Song 9: \"Кругом обман (Krygom Obman)\"\n",
      "Song 10: \"Круто Верить В Чудеса (Great To Believe In Miracles)\"\n",
      "Song 11: \"Мегаполис (Megapolis)\"\n",
      "Song 12: \"Моё промо (My Promo)\"\n",
      "Song 13: \"Мусора (Freestyle)\"\n",
      "Song 14: \"Пока есть о чём сказать (While there is much to be said)\"\n",
      "Song 15: \"Читали Нажимав На Запись (Read While Pushing On Record)\"\n",
      "Song 16: \"Я и Ты (Me and You)\"\n",
      "Done. Found 16 songs.\n"
     ]
    }
   ],
   "source": [
    "import lyricsgenius\n",
    "genius = lyricsgenius.Genius(\"YOUR_API\")\n",
    "artist = genius.search_artist(NAME, max_songs=1000, sort=\"title\")"
   ]
  },
  {
   "cell_type": "code",
   "execution_count": 12,
   "metadata": {},
   "outputs": [
    {
     "name": "stdout",
     "output_type": "stream",
     "text": [
      "Wrote `Lyrics_ВитяАКVityaAK.json`\n"
     ]
    }
   ],
   "source": [
    "artist.save_lyrics()"
   ]
  },
  {
   "cell_type": "code",
   "execution_count": 13,
   "metadata": {
    "scrolled": true
   },
   "outputs": [
    {
     "name": "stdout",
     "output_type": "stream",
     "text": [
      "Searching for \"Baack.com #бэкком\" by Витя АК (Vitya AK)...\n",
      "Done.\n",
      "Searching for \"Diss Big Russian HUESOS / Шлюха в шубе\" by Витя АК (Vitya AK)...\n",
      "Done.\n",
      "Searching for \"«Азино» три топора (Azino 777)\" by Витя АК (Vitya AK)...\n",
      "Done.\n",
      "Searching for \"Апокалипсис (Apocalypse)\" by Витя АК (Vitya AK)...\n",
      "Done.\n",
      "Searching for \"Давно Не Открывал (Didn’t Open Long Time Ago)\" by Витя АК (Vitya AK)...\n",
      "Done.\n",
      "Searching for \"Дама с собачкой\" by Витя АК (Vitya AK)...\n",
      "Done.\n",
      "Searching for \"Еду В Ленинград (On The Way To Leningrad)\" by Витя АК (Vitya AK)...\n",
      "Done.\n",
      "Searching for \"Как ты танцевала (How did you dance)\" by Витя АК (Vitya AK)...\n",
      "Done.\n",
      "Searching for \"Кругом обман (Krygom Obman)\" by Витя АК (Vitya AK)...\n",
      "Done.\n",
      "Searching for \"Круто Верить В Чудеса (Great To Believe In Miracles)\" by Витя АК (Vitya AK)...\n",
      "Done.\n",
      "Searching for \"Мегаполис (Megapolis)\" by Витя АК (Vitya AK)...\n",
      "Done.\n",
      "Searching for \"Моё промо (My Promo)\" by Витя АК (Vitya AK)...\n",
      "Done.\n",
      "Searching for \"Мусора (Freestyle)\" by Витя АК (Vitya AK)...\n",
      "Done.\n",
      "Searching for \"Пока есть о чём сказать (While there is much to be said)\" by Витя АК (Vitya AK)...\n",
      "Done.\n",
      "Searching for \"Читали Нажимав На Запись (Read While Pushing On Record)\" by Витя АК (Vitya AK)...\n",
      "Done.\n",
      "Searching for \"Я и Ты (Me and You)\" by Витя АК (Vitya AK)...\n",
      "Done.\n"
     ]
    }
   ],
   "source": [
    "all_lyrics = []\n",
    "for song in artist.songs:\n",
    "    song_saved = genius.search_song(song.title, artist.name)\n",
    "    all_lyrics.append(song_saved.lyrics)"
   ]
  },
  {
   "cell_type": "code",
   "execution_count": 14,
   "metadata": {},
   "outputs": [
    {
     "data": {
      "text/plain": [
       "16"
      ]
     },
     "execution_count": 14,
     "metadata": {},
     "output_type": "execute_result"
    }
   ],
   "source": [
    "len(all_lyrics)"
   ]
  },
  {
   "cell_type": "code",
   "execution_count": 15,
   "metadata": {},
   "outputs": [],
   "source": [
    "all_lyrics_txt = '/n'.join(all_lyrics)"
   ]
  },
  {
   "cell_type": "code",
   "execution_count": 16,
   "metadata": {},
   "outputs": [
    {
     "data": {
      "text/plain": [
       "'[Куплет 1]\\nБольше, сука, ни одной не буду доверять\\nДушу не открою никому, кроме ребят\\nБольше не потрачу ни цента и нерва\\nТеперь нервы, это когда кончается первый\\nДа, я теперь один, ты теперь одна\\nКак будто не было тебя, не было меня\\nМы разошлись как в море корабли\\nИ то, что было с нами - не купить за рубли\\nЕм доширак опять, меня некому ругать\\nТеперь моя постель - это просто кровать\\nИ теперь сам себе могу сварить пельмени\\nПришли мои друзья, ты их звала - олени\\nЗвони Алене, Лине, Лене\\nТеперь куда хотите едьте, хоть к ебене фене\\nТеперь не будет звонка в 22:00\\nИли может будет, но уже не мой\\n\\n[Припев]\\nДа, я теперь один, ты теперь одна\\nКак будто не было тебя, не было меня\\nКак я теперь один, ты теперь одна\\nКто будет у тебя, будет у меня\\nДа, я теперь один, ты теперь одна\\nКак будто не было тебя, не было меня\\nКак я теперь один, ты теперь одна\\nКто будет у тебя, будет у меня\\n\\n[Куплет 2]\\nВы че, расстались? Да, ну и че?\\nУ нее учеба, у меня рэпачок\\nКровь по сердце течет, от мысли, что какой-то черт\\nЕе обнимет, хотя бы за плечо\\nЧетко бы забыть раз и навсегда все\\nНо это только в матрице у Морфиуса капсулы\\nТвоя подруга звонила, съела мне мозги\\nСказала, что таких как ты нужно заслужить\\nКак теперь с этим жить, скажи\\nИ тот, кто с этим жил, он все еще жив?\\nНет, мне не смешно. Мне что-то грустно\\nНадеюсь меня отпустит, улыбнусь я\\nХуй с ним, все эти чувства\\nТеперь разные тусы, разные вкусы\\nУ меня Москва, студия - у тебя курсы\\nЯ на Курской, ты с подругой на Уктусе\\n\\n[Припев]\\nДа, я теперь один, ты теперь одна\\nКак будто не было тебя, не было меня\\nКак я теперь один, ты теперь одна\\nКто будет у тебя, будет у меня\\nДа, я теперь один, ты теперь одна\\nКак будто не было тебя, не было меня\\nКак я теперь один, ты теперь одна\\nКто будет у тебя, будет у меня'"
      ]
     },
     "execution_count": 16,
     "metadata": {},
     "output_type": "execute_result"
    }
   ],
   "source": [
    "all_lyrics[-1]"
   ]
  },
  {
   "cell_type": "code",
   "execution_count": 17,
   "metadata": {},
   "outputs": [],
   "source": [
    "with open(NAME + \"_lyrics.txt\", \"w\") as text_file:\n",
    "    text_file.write(all_lyrics_txt)"
   ]
  },
  {
   "cell_type": "code",
   "execution_count": null,
   "metadata": {},
   "outputs": [],
   "source": []
  }
 ],
 "metadata": {
  "kernelspec": {
   "display_name": "Python 3",
   "language": "python",
   "name": "python3"
  },
  "language_info": {
   "codemirror_mode": {
    "name": "ipython",
    "version": 3
   },
   "file_extension": ".py",
   "mimetype": "text/x-python",
   "name": "python",
   "nbconvert_exporter": "python",
   "pygments_lexer": "ipython3",
   "version": "3.7.3"
  }
 },
 "nbformat": 4,
 "nbformat_minor": 2
}
